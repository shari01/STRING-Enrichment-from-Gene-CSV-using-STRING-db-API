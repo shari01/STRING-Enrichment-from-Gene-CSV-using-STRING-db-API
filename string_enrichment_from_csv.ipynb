# %%
# Notebook: STRING enrichment from a CSV of genes
#input genes using file
import requests, csv
from pathlib import Path

# --- Configuration ---
API_BASE = "https://version-12-0.string-db.org/api"
SPECIES  = 9606            # human
CALLER   = "enrich_csv_input_notebook"
# Path to your CSV file (first column header must be 'gene' or 'Gene')
INPUT_CSV = "gene-test.csv"

# Display names for each STRING category (scientific nomenclature)
CATEGORY_DISPLAY = {
    "Process":       "Biological_Process",
    "Function":      "Molecular_Function",
    "Component":     "COMPARTMENTS",
    "KEGG_PATHWAY":  "kegg",
    "REACTOME":      "rctm",
    "WikiPathway":   "wikipathways",
}
# Group definitions based on display names
go_folder_disps   = {"Biological_Process", "Molecular_Function", "COMPARTMENTS"}
main_folder_disps = {"kegg", "rctm", "wikipathways"}

# %%
# Read gene symbols from CSV

def read_genes_from_csv(path):
    """Read gene symbols from the first column named 'gene' or 'Gene'."""
    with open(path, newline='') as csvfile:
        reader = csv.DictReader(csvfile)
        headers = reader.fieldnames or []
        gene_col = next((h for h in headers if h.lower() == 'gene'), None)
        if not gene_col:
            raise ValueError("Input CSV must have a column header 'gene' or 'Gene'.")
        return [row[gene_col].strip() for row in reader if row[gene_col].strip()]

genes = read_genes_from_csv(INPUT_CSV)
print(f"→ Read {len(genes)} genes from {INPUT_CSV}")

# %%
# Map to STRING IDs

def map_to_string_ids(genes):
    url = f"{API_BASE}/tsv/get_string_ids"
    params = {"identifiers": "\r".join(genes), "species": SPECIES, "caller_identity": CALLER}
    r = requests.get(url, params=params)
    r.raise_for_status()
    reader = csv.DictReader(r.text.splitlines(), delimiter="\t")
    mapping = list(reader)
    return mapping, [row["stringId"] for row in mapping]

mapping, string_ids = map_to_string_ids(genes)
print(f"→ Mapped to {len(string_ids)} STRING IDs")
# Optionally inspect mapping DataFrame
# %%
import pandas as pd
pd.DataFrame(mapping)

# %%
# Fetch enrichment

def fetch_enrichment(string_ids):
    url = f"{API_BASE}/tsv/enrichment"
    params = {"identifiers": "\r".join(string_ids), "species": SPECIES, "caller_identity": CALLER}
    r = requests.get(url, params=params)
    r.raise_for_status()
    reader = csv.DictReader(r.text.splitlines(), delimiter="\t")
    out = {}
    for row in reader:
        out.setdefault(row["category"], []).append(row)
    return out

enrichment = fetch_enrichment(string_ids)
print(f"→ Retrieved enrichment categories: {list(enrichment.keys())}")

# %%
# Write results into folders

def write_category_files(enrichment, base_dir=Path("enrichment_results")):
    go_folder    = base_dir / "Gene_Ontology"
    main_folder  = base_dir / "Main-DB-pathways"
    other_folder = base_dir / "Other-Db-pathways"
    for folder in (go_folder, main_folder, other_folder):
        folder.mkdir(parents=True, exist_ok=True)

    for raw_cat, rows in enrichment.items():
        disp = CATEGORY_DISPLAY.get(raw_cat, raw_cat.replace(" ", "_")).lower()
        if disp in {d.lower() for d in go_folder_disps}:
            parent = go_folder
        elif disp in main_folder_disps:
            parent = main_folder
        else:
            parent = other_folder
        out_path = parent / f"{disp}.tsv"
        with out_path.open("w", newline="") as f:
            writer = csv.DictWriter(f, fieldnames=rows[0].keys(), delimiter="\t")
            writer.writeheader()
            writer.writerows(rows)
        print(f"Wrote {len(rows)} terms to {out_path}")

write_category_files(enrichment)
print("\nDone. Check the enrichment_results directory.")
